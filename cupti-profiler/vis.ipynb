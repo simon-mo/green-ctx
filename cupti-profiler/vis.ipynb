{
 "cells": [
  {
   "cell_type": "code",
   "execution_count": 16,
   "metadata": {},
   "outputs": [],
   "source": [
    "import pandas as pd\n",
    "from matplotlib import pyplot as plt\n"
   ]
  },
  {
   "cell_type": "code",
   "execution_count": 11,
   "metadata": {},
   "outputs": [],
   "source": [
    "df = pd.read_csv(\"vllm-pm-samples.csv\")\n",
    "df = df[df[\"sample\"]  > 0]\n",
    "metrics = df[\"metric\"].unique()\n"
   ]
  },
  {
   "cell_type": "code",
   "execution_count": null,
   "metadata": {},
   "outputs": [],
   "source": [
    "df.head(7)"
   ]
  },
  {
   "cell_type": "code",
   "execution_count": null,
   "metadata": {},
   "outputs": [],
   "source": [
    "import seaborn as sns\n",
    "\n",
    "# Set style and color palette\n",
    "sns.set_style(\"whitegrid\")\n",
    "sns.set_palette(\"muted\")\n",
    "\n",
    "# Create figure with subplots\n",
    "n_metrics = len(metrics)\n",
    "fig, axes = plt.subplots(n_metrics, 1, figsize=(12, 4*n_metrics), dpi=150)\n",
    "\n",
    "# Plot each metric in its own subplot\n",
    "for i, metric in enumerate(metrics):\n",
    "    df_metric = df[df[\"metric\"] == metric]\n",
    "    sns.scatterplot(data=df_metric, x=\"sample\", y=\"value\", ax=axes[i])\n",
    "    axes[i].set_title(metric)\n",
    "    axes[i].set_xlabel(\"Sample\")\n",
    "    axes[i].set_ylabel(\"Value\")\n",
    "\n",
    "# Adjust layout to prevent overlap\n",
    "plt.tight_layout()\n",
    "plt.show()\n"
   ]
  },
  {
   "cell_type": "code",
   "execution_count": null,
   "metadata": {},
   "outputs": [],
   "source": [
    "# Create figure with subplots for histograms\n",
    "fig, axes = plt.subplots(n_metrics, 1, figsize=(12, 4*n_metrics), dpi=150)\n",
    "\n",
    "# Plot histogram for each metric\n",
    "for i, metric in enumerate(metrics):\n",
    "    df_metric = df[df[\"metric\"] == metric]\n",
    "    sns.histplot(data=df_metric, x=\"value\", ax=axes[i])\n",
    "    axes[i].set_title(f\"Distribution of {metric}\")\n",
    "    axes[i].set_xlabel(\"Value\")\n",
    "    axes[i].set_ylabel(\"Count\")\n",
    "\n",
    "# Adjust layout to prevent overlap\n",
    "plt.tight_layout()\n",
    "plt.show()\n"
   ]
  },
  {
   "cell_type": "code",
   "execution_count": null,
   "metadata": {},
   "outputs": [],
   "source": []
  }
 ],
 "metadata": {
  "kernelspec": {
   "display_name": ".venv",
   "language": "python",
   "name": "python3"
  },
  "language_info": {
   "codemirror_mode": {
    "name": "ipython",
    "version": 3
   },
   "file_extension": ".py",
   "mimetype": "text/x-python",
   "name": "python",
   "nbconvert_exporter": "python",
   "pygments_lexer": "ipython3",
   "version": "3.11.11"
  }
 },
 "nbformat": 4,
 "nbformat_minor": 2
}
